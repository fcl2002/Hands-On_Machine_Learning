{
 "cells": [
  {
   "cell_type": "markdown",
   "metadata": {},
   "source": [
    "# Hands-On Machine Learning with Scikit-Learn, Keras & TensorFlow"
   ]
  },
  {
   "cell_type": "markdown",
   "metadata": {},
   "source": [
    "### Roadmap\n",
    "- Part I: The Fundamentals of Machine Learning\n",
    "- Part II: Neural Networks and Deep learning\n",
    "\n",
    "### Other Resources\n",
    "- [_Python_](https://www.learnpython.org)\n",
    "- [_Skicit-Learn's User Guide_](https://homl.info/skdoc)\n",
    "- [_Dataquest_](https://www.dataquest.io/)\n",
    "- [_Quora_](https://homl.info/1)\n",
    "- [_Deep Learning_](https://deeplearning.net/)\n",
    "\n",
    "### Code Examples\n",
    "- [_Jupyter Notebooks_](https://github.com/ageron/handson-ml2)\n"
   ]
  },
  {
   "cell_type": "markdown",
   "metadata": {},
   "source": []
  },
  {
   "cell_type": "markdown",
   "metadata": {},
   "source": [
    "### Machine Learning\n",
    "Is the science of programming computers so they can _learn from data_.\n",
    "\n",
    "### Types of ML Systems\n",
    "1. Supervised / Unsupervisioned Learning\n",
    "\n",
    "    1.1. Supervised\n",
    "    \n",
    "    The training set you feed to the algorithm includes the desired solutions, called _labels_.\n",
    "    - k-Nearest Neighbors\n",
    "    - Linear regression\n",
    "    - Logistic Regression\n",
    "    - SVMs\n",
    "    - Decision Trees and Random Forets\n",
    "    - Neural networks\n",
    "\n",
    "    1.2. Unsupervised\n",
    "    \n",
    "    The training data is unlabeled. *The system tries to learn without a teacher*.\n",
    "    - *Clustering*\n",
    "        - K-Means\n",
    "        - DBSCAN\n",
    "        - Hierarchical Cluster Analysis (HCA)\n",
    "    - *Anomaly detection and novelty detection*\n",
    "        - One-class SVM\n",
    "        - Isolation Forest\n",
    "    - *Visualization and dimensionality reduction*\n",
    "        - Principal Component Analysis (PCA)\n",
    "        - Kernel PCA\n",
    "        - LLE\n",
    "        - t-SNE\n",
    "    - *Association rule learning*\n",
    "        - Apriori\n",
    "        - Eclat\n",
    "\n",
    "    1.3. Semisupervised\n",
    "    \n",
    "    Data that's partially labeled.\n",
    "    - Deep belief networs (DBNs)\n",
    "\n",
    "    1.4. Reinforcement\n",
    "    \n",
    "    The learning system can observ the environment, select and perform actions, and get _rewards_ or _penaltis_ in return.\n"
   ]
  },
  {
   "cell_type": "markdown",
   "metadata": {},
   "source": [
    "- Instance-based learning -> learn by heart (memorização)\n",
    "\n",
    "- Model-based learning ->build a model from a set of examples andthen use that model to make predicts"
   ]
  },
  {
   "cell_type": "markdown",
   "metadata": {},
   "source": []
  }
 ],
 "metadata": {
  "kernelspec": {
   "display_name": "Python 3",
   "language": "python",
   "name": "python3"
  },
  "language_info": {
   "codemirror_mode": {
    "name": "ipython",
    "version": 3
   },
   "file_extension": ".py",
   "mimetype": "text/x-python",
   "name": "python",
   "nbconvert_exporter": "python",
   "pygments_lexer": "ipython3",
   "version": "3.12.2"
  }
 },
 "nbformat": 4,
 "nbformat_minor": 2
}
